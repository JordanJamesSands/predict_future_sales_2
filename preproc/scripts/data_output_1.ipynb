{
 "cells": [
  {
   "cell_type": "code",
   "execution_count": 1,
   "metadata": {},
   "outputs": [],
   "source": [
    "import pickle\n",
    "import numpy as np\n",
    "import pandas as pd\n",
    "import os"
   ]
  },
  {
   "cell_type": "code",
   "execution_count": 2,
   "metadata": {},
   "outputs": [],
   "source": [
    "x_train_list = pickle.load(open('../../gen_data/x_train_[0, 50, 100]_--features4.ipynb--.pickle','rb'))\n",
    "x_test_list = pickle.load(open('../../gen_data/x_test_[0, 50, 100]_--features4.ipynb--.pickle','rb'))\n",
    "y_train_list = pickle.load(open('../../gen_data/y_train--features1.ipynb--.pickle','rb'))\n",
    "y_test_list = pickle.load(open('../../gen_data/y_val--simple_validation_split.ipynb--.pickle','rb'))"
   ]
  },
  {
   "cell_type": "code",
   "execution_count": 5,
   "metadata": {},
   "outputs": [],
   "source": [
    "save_loc = '../../saved_datasets/15-3-19,pipeline_A,dateback=12,alphas=[0,50,100]/'\n",
    "if not os.path.exists(save_loc):\n",
    "    os.mkdir(save_loc)\n",
    "filename = 'xtrain_xtest_ytrain_ytest.pickle'\n",
    "pickle.dump([x_train_list,x_test_list,y_train_list,y_test_list],open(save_loc+filename,'wb'))"
   ]
  }
 ],
 "metadata": {
  "kernelspec": {
   "display_name": "Python 3",
   "language": "python",
   "name": "python3"
  },
  "language_info": {
   "codemirror_mode": {
    "name": "ipython",
    "version": 3
   },
   "file_extension": ".py",
   "mimetype": "text/x-python",
   "name": "python",
   "nbconvert_exporter": "python",
   "pygments_lexer": "ipython3",
   "version": "3.7.1"
  }
 },
 "nbformat": 4,
 "nbformat_minor": 2
}
