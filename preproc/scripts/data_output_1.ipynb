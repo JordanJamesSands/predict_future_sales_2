{
 "cells": [
  {
   "cell_type": "code",
   "execution_count": 1,
   "metadata": {},
   "outputs": [],
   "source": [
    "import pickle\n",
    "import numpy as np\n",
    "import pandas as pd"
   ]
  },
  {
   "cell_type": "code",
   "execution_count": 2,
   "metadata": {},
   "outputs": [],
   "source": [
    "x_train_list = pickle.load(open('../../gen_data/x_train--features4.ipynb--.pickle','rb'))\n",
    "x_test_list = pickle.load(open('../../gen_data/x_test--features4.ipynb--.pickle','rb'))\n",
    "y_train_list = pickle.load(open('../../gen_data/y_train--features1.ipynb--.pickle','rb'))\n",
    "y_test_list = pickle.load(open('../../gen_data/y_val--simple_validation_split.ipynb--.pickle','rb'))"
   ]
  },
  {
   "cell_type": "code",
   "execution_count": 3,
   "metadata": {},
   "outputs": [],
   "source": [
    "save_loc = '../../saved_datasets/3-11-19.stitch.aggregate.clip.simple_validation_split.enrich1.features1.features2.features3.features4.data_output_1.dateback=12.targ_enc_perm=8/'\n",
    "filename = 'xtrain_xtest_ytrain_ytest.pickle'\n",
    "pickle.dump([x_train_list,x_test_list,y_train_list,y_test_list],open(save_loc+filename,'wb'))"
   ]
  },
  {
   "cell_type": "code",
   "execution_count": null,
   "metadata": {},
   "outputs": [],
   "source": []
  }
 ],
 "metadata": {
  "kernelspec": {
   "display_name": "Python 3",
   "language": "python",
   "name": "python3"
  },
  "language_info": {
   "codemirror_mode": {
    "name": "ipython",
    "version": 3
   },
   "file_extension": ".py",
   "mimetype": "text/x-python",
   "name": "python",
   "nbconvert_exporter": "python",
   "pygments_lexer": "ipython3",
   "version": "3.7.1"
  }
 },
 "nbformat": 4,
 "nbformat_minor": 2
}
