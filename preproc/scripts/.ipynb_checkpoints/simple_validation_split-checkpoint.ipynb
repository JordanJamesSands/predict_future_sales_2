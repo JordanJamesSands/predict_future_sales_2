{
 "cells": [
  {
   "cell_type": "code",
   "execution_count": null,
   "metadata": {},
   "outputs": [],
   "source": [
    "#the purpose of this notebook is to split ../../gen_data/train2.csv into training set(s), targets , \n",
    "#validation set(s), validation targets.\n",
    "\n",
    "#inputs: ../../gen_data/train2.csv\n",
    "#outputs:\n",
    "            #python list of training set(s)\n",
    "            #python list of targets\n",
    "            #python list of validation set(s) identical in format to ../../original_data/test.csv.gz"
   ]
  },
  {
   "cell_type": "code",
   "execution_count": null,
   "metadata": {},
   "outputs": [],
   "source": [
    "import numpy as np\n",
    "import pandas as pd\n",
    "import pickle\n"
   ]
  },
  {
   "cell_type": "code",
   "execution_count": null,
   "metadata": {},
   "outputs": [],
   "source": [
    "train2 = pd.read_csv('../../gen_data/train2.csv')\n",
    "train2.head()"
   ]
  },
  {
   "cell_type": "code",
   "execution_count": null,
   "metadata": {},
   "outputs": [],
   "source": [
    "#as a reference, get test\n",
    "test = pd.read_csv('../../original_data/test.csv.gz')\n",
    "test.head()"
   ]
  },
  {
   "cell_type": "code",
   "execution_count": null,
   "metadata": {},
   "outputs": [],
   "source": [
    "training_bool = train2['date_block_num']<33\n",
    "y_train_to_32 = train2['item_cnt_month'][training_bool]\n",
    "x_train_to_32 = train2.drop('item_cnt_month',axis=1)[training_bool]"
   ]
  },
  {
   "cell_type": "code",
   "execution_count": null,
   "metadata": {},
   "outputs": [],
   "source": [
    "validation_bool = train2['date_block_num']==33\n",
    "validation_33 = train2[validation_bool].merge(test,'right',on=['item_id','shop_id'])"
   ]
  },
  {
   "cell_type": "code",
   "execution_count": null,
   "metadata": {
    "scrolled": true
   },
   "outputs": [],
   "source": [
    "validation_33.head()"
   ]
  },
  {
   "cell_type": "code",
   "execution_count": null,
   "metadata": {},
   "outputs": [],
   "source": [
    "#dropped this, x_valid_33 is the same as test, only need y_valid_33\n",
    "\n",
    "#need to drop columns to make it like test.csv in original_data\n",
    "#validation_33.drop(['date_block_num','item_category_id','shop_name','item_name','item_category_name'],axis=1,inplace=True)\n",
    "#validation_33.head()"
   ]
  },
  {
   "cell_type": "code",
   "execution_count": null,
   "metadata": {},
   "outputs": [],
   "source": [
    "#dropped this, x_valid_33 is the same as test, only need y_valid_33\n",
    "\n",
    "#x_valid_33 = validation_33[['ID','shop_id','item_id']]\n",
    "y_valid_33 = validation_33['item_cnt_month']\n",
    "#x_valid_33.head()"
   ]
  },
  {
   "cell_type": "code",
   "execution_count": null,
   "metadata": {},
   "outputs": [],
   "source": [
    "#now prep train test data\n",
    "y_train_to_33 = train2['item_cnt_month']\n",
    "x_train_to_33 = train2.drop('item_cnt_month',axis=1)\n"
   ]
  },
  {
   "cell_type": "code",
   "execution_count": null,
   "metadata": {},
   "outputs": [],
   "source": [
    "#dropped this, x_valid_33 is the same as test, only need y_valid_33\n",
    "\n",
    "#x_valid_33 = x_valid_33.sort_values('ID')"
   ]
  },
  {
   "cell_type": "code",
   "execution_count": null,
   "metadata": {},
   "outputs": [],
   "source": [
    "y_test_nans = pd.Series(np.full(test.shape[0],np.nan))"
   ]
  },
  {
   "cell_type": "code",
   "execution_count": null,
   "metadata": {},
   "outputs": [],
   "source": [
    "#save items as a list so that I can add more validation schemes later\n",
    "pickle.dump([x_train_to_32,x_train_to_33],open('../../gen_data/x_train--simple_validation_split.ipynb--.pickle','wb'))\n",
    "pickle.dump([y_train_to_32,y_train_to_33],open('../../gen_data/y_train--simple_validation_split.ipynb--.pickle','wb'))\n",
    "pickle.dump([test,test],open('../../gen_data/x_val--simple_validation_split.ipynb--.pickle','wb'))\n",
    "pickle.dump([y_valid_33,y_test_nans],open('../../gen_data/y_val--simple_validation_split.ipynb--.pickle','wb'))"
   ]
  }
 ],
 "metadata": {
  "kernelspec": {
   "display_name": "Python 3",
   "language": "python",
   "name": "python3"
  },
  "language_info": {
   "codemirror_mode": {
    "name": "ipython",
    "version": 3
   },
   "file_extension": ".py",
   "mimetype": "text/x-python",
   "name": "python",
   "nbconvert_exporter": "python",
   "pygments_lexer": "ipython3",
   "version": "3.7.0"
  }
 },
 "nbformat": 4,
 "nbformat_minor": 2
}
