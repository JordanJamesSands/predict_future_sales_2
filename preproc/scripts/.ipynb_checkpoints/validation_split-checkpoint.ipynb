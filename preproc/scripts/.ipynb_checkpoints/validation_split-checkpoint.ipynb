{
 "cells": [
  {
   "cell_type": "code",
   "execution_count": 12,
   "metadata": {},
   "outputs": [],
   "source": [
    "import numpy as np\n",
    "import pandas as pd\n",
    "import sklearn\n",
    "from sklearn import model_selection"
   ]
  },
  {
   "cell_type": "code",
   "execution_count": 120,
   "metadata": {},
   "outputs": [],
   "source": [
    "train2 = pd.read_csv('../../gen_data/train2.csv')\n"
   ]
  },
  {
   "cell_type": "code",
   "execution_count": 121,
   "metadata": {},
   "outputs": [
    {
     "data": {
      "text/plain": [
       "date_block_num         int64\n",
       "shop_id                int64\n",
       "item_id                int64\n",
       "item_category_id       int64\n",
       "shop_name             object\n",
       "item_name             object\n",
       "item_category_name    object\n",
       "sales                  int64\n",
       "dtype: object"
      ]
     },
     "execution_count": 121,
     "metadata": {},
     "output_type": "execute_result"
    }
   ],
   "source": [
    "train2.dtypes "
   ]
  },
  {
   "cell_type": "code",
   "execution_count": 137,
   "metadata": {},
   "outputs": [
    {
     "data": {
      "text/plain": [
       "date_block_num           int32\n",
       "shop_id                  int32\n",
       "item_id                  int32\n",
       "item_category_id         int32\n",
       "shop_name             category\n",
       "item_name             category\n",
       "item_category_name    category\n",
       "sales                    int32\n",
       "dtype: object"
      ]
     },
     "execution_count": 137,
     "metadata": {},
     "output_type": "execute_result"
    }
   ],
   "source": [
    "#im sure theres a better way of doing this\n",
    "train2['date_block_num'] =   pd.Series(train2['date_block_num'],dtype=np.int32)\n",
    "train2['shop_id'] =          pd.Series(train2['shop_id'],dtype=np.int32)\n",
    "train2['item_id'] =          pd.Series(train2['item_id'],dtype=np.int32)\n",
    "train2['item_category_id'] = pd.Series(train2['item_category_id'],dtype=np.int32)\n",
    "train2['sales'] =            pd.Series(train2['sales'],dtype=np.int32)\n",
    "\n",
    "train2['shop_name'] = pd.Series(train2['shop_name'],dtype='category')\n",
    "train2['item_name'] = pd.Series(train2['item_name'],dtype='category')\n",
    "train2['item_category_name'] = pd.Series(train2['item_category_name'],dtype='category')\n",
    "\n",
    "train2.dtypes"
   ]
  },
  {
   "cell_type": "code",
   "execution_count": 138,
   "metadata": {},
   "outputs": [],
   "source": [
    "#need to split in to many train validation sets, keep it simple and space *inefficient*\n",
    "x_train_list = []\n",
    "x_val_list = []\n",
    "y_train_list = []\n",
    "y_val_list = []\n",
    "\n",
    "\n",
    "for val_month in range(21,34):\n",
    "    \n",
    "    val =   train2[X_train['date_block_num']==val_month]\n",
    "    train = train2[X_train['date_block_num']<val_month]\n",
    "    \n",
    "    y_train = train['sales']\n",
    "    x_train = train.drop('sales',axis=1)\n",
    "    y_val = val['sales']\n",
    "    x_val = val.drop('sales',axis=1)\n",
    "    \n",
    "    \n",
    "    \n",
    "    x_val_list.append(x_val)\n",
    "    x_train_list.append(x_train)\n",
    "    y_val_list.append(y_val)\n",
    "    y_train_list.append(y_train)\n",
    "    \n",
    "\n",
    "    "
   ]
  },
  {
   "cell_type": "code",
   "execution_count": 152,
   "metadata": {},
   "outputs": [
    {
     "data": {
      "text/plain": [
       "[21, 22, 23, 24, 25, 26, 27, 28, 29, 30, 31, 32, 33]"
      ]
     },
     "execution_count": 152,
     "metadata": {},
     "output_type": "execute_result"
    }
   ],
   "source": [
    "[x for x in range(21,34)]"
   ]
  },
  {
   "cell_type": "code",
   "execution_count": null,
   "metadata": {},
   "outputs": [],
   "source": []
  },
  {
   "cell_type": "code",
   "execution_count": 140,
   "metadata": {},
   "outputs": [
    {
     "data": {
      "text/plain": [
       "0     63224\n",
       "1     59935\n",
       "2     63977\n",
       "3     54638\n",
       "4     53296\n",
       "5     56196\n",
       "6     58035\n",
       "7     58022\n",
       "8     51575\n",
       "9     51090\n",
       "10    51460\n",
       "11    66276\n",
       "12    53320\n",
       "13    47704\n",
       "14    49291\n",
       "15    44740\n",
       "16    45766\n",
       "17    46481\n",
       "18    45756\n",
       "19    46439\n",
       "20    40423\n",
       "21    42595\n",
       "22    45755\n",
       "23    59275\n",
       "24    46775\n",
       "25    41390\n",
       "26    40464\n",
       "27    32875\n",
       "28    32220\n",
       "29    31909\n",
       "30    33527\n",
       "31    33486\n",
       "32    29678\n",
       "33    31531\n",
       "Name: date_block_num, dtype: int64"
      ]
     },
     "execution_count": 140,
     "metadata": {},
     "output_type": "execute_result"
    }
   ],
   "source": [
    "val_counts = train2['date_block_num'].value_counts()\n",
    "val_counts = val_counts.sort_index()\n",
    "val_counts"
   ]
  },
  {
   "cell_type": "code",
   "execution_count": 141,
   "metadata": {},
   "outputs": [
    {
     "data": {
      "text/plain": [
       "0       63224\n",
       "1      123159\n",
       "2      187136\n",
       "3      241774\n",
       "4      295070\n",
       "5      351266\n",
       "6      409301\n",
       "7      467323\n",
       "8      518898\n",
       "9      569988\n",
       "10     621448\n",
       "11     687724\n",
       "12     741044\n",
       "13     788748\n",
       "14     838039\n",
       "15     882779\n",
       "16     928545\n",
       "17     975026\n",
       "18    1020782\n",
       "19    1067221\n",
       "20    1107644\n",
       "21    1150239\n",
       "22    1195994\n",
       "23    1255269\n",
       "24    1302044\n",
       "25    1343434\n",
       "26    1383898\n",
       "27    1416773\n",
       "28    1448993\n",
       "29    1480902\n",
       "30    1514429\n",
       "31    1547915\n",
       "32    1577593\n",
       "33    1609124\n",
       "Name: date_block_num, dtype: int64"
      ]
     },
     "execution_count": 141,
     "metadata": {},
     "output_type": "execute_result"
    }
   ],
   "source": [
    "np.cumsum(val_counts)"
   ]
  },
  {
   "cell_type": "code",
   "execution_count": 142,
   "metadata": {},
   "outputs": [
    {
     "data": {
      "text/plain": [
       "(1107644, 7)"
      ]
     },
     "execution_count": 142,
     "metadata": {},
     "output_type": "execute_result"
    }
   ],
   "source": [
    "x_train_list[0].shape\n",
    "#should be 1107644"
   ]
  },
  {
   "cell_type": "code",
   "execution_count": 143,
   "metadata": {},
   "outputs": [
    {
     "data": {
      "text/plain": [
       "(42595, 7)"
      ]
     },
     "execution_count": 143,
     "metadata": {},
     "output_type": "execute_result"
    }
   ],
   "source": [
    "x_val_list[0].shape\n",
    "#should be 42595"
   ]
  },
  {
   "cell_type": "code",
   "execution_count": 144,
   "metadata": {},
   "outputs": [
    {
     "data": {
      "text/plain": [
       "(31531, 7)"
      ]
     },
     "execution_count": 144,
     "metadata": {},
     "output_type": "execute_result"
    }
   ],
   "source": [
    "x_val_list[-1].shape\n",
    "#should be 31531"
   ]
  },
  {
   "cell_type": "code",
   "execution_count": 145,
   "metadata": {},
   "outputs": [
    {
     "data": {
      "text/plain": [
       "(31531,)"
      ]
     },
     "execution_count": 145,
     "metadata": {},
     "output_type": "execute_result"
    }
   ],
   "source": [
    "y_val_list[-1].shape\n",
    "#should be 31531"
   ]
  },
  {
   "cell_type": "code",
   "execution_count": 146,
   "metadata": {},
   "outputs": [],
   "source": [
    "#mvl = list()\n",
    "#mvl.append(x_train_list)\n",
    "#mvl.append(y_train_list)\n",
    "#mvl.append(x_val_list)\n",
    "#mvl.append(y_val_list)"
   ]
  },
  {
   "cell_type": "code",
   "execution_count": 147,
   "metadata": {},
   "outputs": [],
   "source": [
    "#master_validation_list = mvl"
   ]
  },
  {
   "cell_type": "code",
   "execution_count": 148,
   "metadata": {},
   "outputs": [],
   "source": [
    "import pickle"
   ]
  },
  {
   "cell_type": "code",
   "execution_count": 149,
   "metadata": {},
   "outputs": [],
   "source": [
    "f = open('../../gen_data/master_validation_list.pickle','wb')\n",
    "pickle.dump([x_train_list,y_train_list,x_val_list,y_val_list],f)\n",
    "f.close()"
   ]
  }
 ],
 "metadata": {
  "kernelspec": {
   "display_name": "Python 3",
   "language": "python",
   "name": "python3"
  },
  "language_info": {
   "codemirror_mode": {
    "name": "ipython",
    "version": 3
   },
   "file_extension": ".py",
   "mimetype": "text/x-python",
   "name": "python",
   "nbconvert_exporter": "python",
   "pygments_lexer": "ipython3",
   "version": "3.7.0"
  }
 },
 "nbformat": 4,
 "nbformat_minor": 2
}
