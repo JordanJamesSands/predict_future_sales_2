{
 "cells": [
  {
   "cell_type": "code",
   "execution_count": null,
   "metadata": {},
   "outputs": [],
   "source": [
    "#the purpose of this script is to generate a df inspired by x_test/x_validation that can be used to predict\n",
    "#on a model trained on x_train, by default the test data contains limited information, as can be seen below:"
   ]
  },
  {
   "cell_type": "code",
   "execution_count": null,
   "metadata": {},
   "outputs": [],
   "source": [
    "import pandas as pd\n",
    "import numpy as np\n",
    "import pickle"
   ]
  },
  {
   "cell_type": "code",
   "execution_count": null,
   "metadata": {},
   "outputs": [],
   "source": [
    "#TODO   maybe dont hardcode this\n",
    "#TODO   also, this is giving month as 33!\n",
    "x_train_list = pickle.load(open('../gen_data/x_train--simple_validation_split.ipynb--.pickle','rb'))\n",
    "test_list = pickle.load(open('../gen_data/x_val--simple_validation_split.ipynb--.pickle','rb'))"
   ]
  },
  {
   "cell_type": "code",
   "execution_count": null,
   "metadata": {},
   "outputs": [],
   "source": [
    "train2 = pd.read_csv('../gen_data/train2.csv')\n",
    "train2.drop('item_cnt_month',axis=1,inplace=True)\n",
    "train2.drop_duplicates(['shop_id','item_id'],inplace=True)\n",
    "train2.head()"
   ]
  },
  {
   "cell_type": "code",
   "execution_count": null,
   "metadata": {},
   "outputs": [],
   "source": [
    "\n",
    "\n",
    "\n",
    "val_month_list = []\n",
    "for x_train in x_train_list:\n",
    "    #need to find what value to insert for date_block_num for each value of test_rich (list)\n",
    "    val_month = x_train['date_block_num'].max()+1\n",
    "    val_month_list.append(val_month)"
   ]
  },
  {
   "cell_type": "code",
   "execution_count": null,
   "metadata": {},
   "outputs": [],
   "source": [
    "test_rich =[]\n",
    "for test_df,  x_train in zip(test_list,x_train_list):\n",
    "    \n",
    "    #need to find what value to insert for date_block_num for each value of test_rich (list)\n",
    "    val_month = x_train['date_block_num'].max()+1\n",
    "    \n",
    "    #prepare x_train for merging by dropping duplicates, that way test_rich_df will have correct row nums\n",
    "    x_train_no_dups = x_train.drop_duplicates(['shop_id','item_id'],inplace=False)\n",
    "    \n",
    "    #need to merge the validation data with *only* the training data beforehand, this is to mimic possible \n",
    "    #unforseen shop/item ids.\n",
    "    test_rich_df = test_df.merge(x_train_no_dups,how='left',on=['item_id','shop_id'])\n",
    "    #need to change dates to validaiton month, also, drop ID, the models wont use that\n",
    "    test_rich_df.drop(['date_block_num','ID'],axis=1,inplace=True)\n",
    "    test_rich_df.insert(0,'date_block_num',val_month)\n",
    "    test_rich.append(test_rich_df)"
   ]
  },
  {
   "cell_type": "code",
   "execution_count": null,
   "metadata": {},
   "outputs": [],
   "source": [
    "test_rich[0].shape"
   ]
  },
  {
   "cell_type": "code",
   "execution_count": null,
   "metadata": {},
   "outputs": [],
   "source": [
    "test_rich[0].head()"
   ]
  },
  {
   "cell_type": "code",
   "execution_count": null,
   "metadata": {},
   "outputs": [],
   "source": [
    "test_rich[1].head()"
   ]
  },
  {
   "cell_type": "code",
   "execution_count": null,
   "metadata": {},
   "outputs": [],
   "source": [
    "not (1==0)"
   ]
  },
  {
   "cell_type": "code",
   "execution_count": null,
   "metadata": {},
   "outputs": [],
   "source": [
    "test_rich[0].drop('date_block_num',axis=1).equals(test_rich[1].drop('date_block_num',axis=1))\n",
    "diff = test_rich[0].isna() != test_rich[1].isna()\n",
    "for col in diff.columns:\n",
    "    print(col)\n",
    "    for ind , diffval in enumerate(diff[col]):\n",
    "        if diffval:\n",
    "            print(ind)"
   ]
  },
  {
   "cell_type": "code",
   "execution_count": null,
   "metadata": {},
   "outputs": [],
   "source": [
    "test_rich[0].loc[71]"
   ]
  },
  {
   "cell_type": "code",
   "execution_count": null,
   "metadata": {},
   "outputs": [],
   "source": [
    "test_rich[1].loc[71]"
   ]
  },
  {
   "cell_type": "code",
   "execution_count": null,
   "metadata": {},
   "outputs": [],
   "source": [
    "x_train_list[1][(x_train_list[1].shop_id==5) & (x_train_list[1].item_id==3353)]"
   ]
  },
  {
   "cell_type": "code",
   "execution_count": null,
   "metadata": {},
   "outputs": [],
   "source": [
    "pickle.dump(test_rich,open('../gen_data/test_data_enriched--enrich1.ipynb--.pickle','wb'))\n"
   ]
  },
  {
   "cell_type": "code",
   "execution_count": null,
   "metadata": {},
   "outputs": [],
   "source": [
    "#read in sales_train to get merge with test, to get shop_name etc.\n",
    "#train_original = pd.read_csv('../original_data/sales_train.csv.gz')\n",
    "#train_original.drop(['date','date_block_num','item_price'],axis=1,inplace=True)\n",
    "#train_original.drop_duplicates(['shop_id','item_id'],inplace=True)\n",
    "#train_original.head()"
   ]
  }
 ],
 "metadata": {
  "kernelspec": {
   "display_name": "Python 3",
   "language": "python",
   "name": "python3"
  },
  "language_info": {
   "codemirror_mode": {
    "name": "ipython",
    "version": 3
   },
   "file_extension": ".py",
   "mimetype": "text/x-python",
   "name": "python",
   "nbconvert_exporter": "python",
   "pygments_lexer": "ipython3",
   "version": "3.7.1"
  }
 },
 "nbformat": 4,
 "nbformat_minor": 2
}
