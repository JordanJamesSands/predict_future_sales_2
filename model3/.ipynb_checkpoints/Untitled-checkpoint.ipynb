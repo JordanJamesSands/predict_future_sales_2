{
 "cells": [
  {
   "cell_type": "code",
   "execution_count": 1,
   "metadata": {},
   "outputs": [],
   "source": [
    "import pandas as pd\n",
    "import numpy as np \n",
    "import pickle\n",
    "import xgboost as xgb"
   ]
  },
  {
   "cell_type": "code",
   "execution_count": 10,
   "metadata": {},
   "outputs": [],
   "source": [
    "pik = pickle.load(open('../saved_datasets/15-3-19,pipeline_A,dateback=12,alphas=[0,50,100]/xtrain_xtest_ytrain_ytest.pickle','rb'))\n",
    "\n",
    "x_train , x_test , y_train , y_test = [[x[0]] for x in pik]\n",
    "#del pik"
   ]
  },
  {
   "cell_type": "code",
   "execution_count": 11,
   "metadata": {},
   "outputs": [
    {
     "data": {
      "text/html": [
       "<div>\n",
       "<style scoped>\n",
       "    .dataframe tbody tr th:only-of-type {\n",
       "        vertical-align: middle;\n",
       "    }\n",
       "\n",
       "    .dataframe tbody tr th {\n",
       "        vertical-align: top;\n",
       "    }\n",
       "\n",
       "    .dataframe thead th {\n",
       "        text-align: right;\n",
       "    }\n",
       "</style>\n",
       "<table border=\"1\" class=\"dataframe\">\n",
       "  <thead>\n",
       "    <tr style=\"text-align: right;\">\n",
       "      <th></th>\n",
       "      <th>date_block_num</th>\n",
       "      <th>shop_id</th>\n",
       "      <th>item_id</th>\n",
       "      <th>item_category_id</th>\n",
       "      <th>sum_item_sales_back_1</th>\n",
       "      <th>sum_shop_sales_back_1</th>\n",
       "      <th>item_cnt_month_back_1</th>\n",
       "      <th>sum_item_cat_sales_back_1</th>\n",
       "      <th>sum_item_cat_shop_sales_back_1</th>\n",
       "      <th>sum_item_sales_back_2</th>\n",
       "      <th>...</th>\n",
       "      <th>month_encoded_alpha_50</th>\n",
       "      <th>city_encoded_alpha_50</th>\n",
       "      <th>item_type_encoded_alpha_50</th>\n",
       "      <th>item_info_encoded_alpha_100</th>\n",
       "      <th>shop_id_encoded_alpha_100</th>\n",
       "      <th>item_id_encoded_alpha_100</th>\n",
       "      <th>item_category_id_encoded_alpha_100</th>\n",
       "      <th>month_encoded_alpha_100</th>\n",
       "      <th>city_encoded_alpha_100</th>\n",
       "      <th>item_type_encoded_alpha_100</th>\n",
       "    </tr>\n",
       "  </thead>\n",
       "  <tbody>\n",
       "    <tr>\n",
       "      <th>0</th>\n",
       "      <td>12</td>\n",
       "      <td>2</td>\n",
       "      <td>32</td>\n",
       "      <td>40</td>\n",
       "      <td>0.0</td>\n",
       "      <td>0.0</td>\n",
       "      <td>0.0</td>\n",
       "      <td>0.0</td>\n",
       "      <td>0.0</td>\n",
       "      <td>0.0</td>\n",
       "      <td>...</td>\n",
       "      <td>0.345510</td>\n",
       "      <td>0.149538</td>\n",
       "      <td>0.207502</td>\n",
       "      <td>0.245058</td>\n",
       "      <td>0.149622</td>\n",
       "      <td>0.654339</td>\n",
       "      <td>0.245058</td>\n",
       "      <td>0.345508</td>\n",
       "      <td>0.149622</td>\n",
       "      <td>0.207506</td>\n",
       "    </tr>\n",
       "    <tr>\n",
       "      <th>1</th>\n",
       "      <td>12</td>\n",
       "      <td>2</td>\n",
       "      <td>33</td>\n",
       "      <td>37</td>\n",
       "      <td>42.0</td>\n",
       "      <td>1322.0</td>\n",
       "      <td>1.0</td>\n",
       "      <td>9959.0</td>\n",
       "      <td>55.0</td>\n",
       "      <td>15.0</td>\n",
       "      <td>...</td>\n",
       "      <td>0.342765</td>\n",
       "      <td>0.154742</td>\n",
       "      <td>0.207805</td>\n",
       "      <td>0.162711</td>\n",
       "      <td>0.154824</td>\n",
       "      <td>0.394627</td>\n",
       "      <td>0.162711</td>\n",
       "      <td>0.342763</td>\n",
       "      <td>0.154824</td>\n",
       "      <td>0.207809</td>\n",
       "    </tr>\n",
       "    <tr>\n",
       "      <th>2</th>\n",
       "      <td>12</td>\n",
       "      <td>2</td>\n",
       "      <td>99</td>\n",
       "      <td>37</td>\n",
       "      <td>0.0</td>\n",
       "      <td>0.0</td>\n",
       "      <td>0.0</td>\n",
       "      <td>0.0</td>\n",
       "      <td>0.0</td>\n",
       "      <td>0.0</td>\n",
       "      <td>...</td>\n",
       "      <td>0.353070</td>\n",
       "      <td>0.154511</td>\n",
       "      <td>0.207298</td>\n",
       "      <td>0.162172</td>\n",
       "      <td>0.154593</td>\n",
       "      <td>0.188741</td>\n",
       "      <td>0.162172</td>\n",
       "      <td>0.353067</td>\n",
       "      <td>0.154593</td>\n",
       "      <td>0.207301</td>\n",
       "    </tr>\n",
       "    <tr>\n",
       "      <th>3</th>\n",
       "      <td>12</td>\n",
       "      <td>2</td>\n",
       "      <td>482</td>\n",
       "      <td>73</td>\n",
       "      <td>88.0</td>\n",
       "      <td>1322.0</td>\n",
       "      <td>1.0</td>\n",
       "      <td>419.0</td>\n",
       "      <td>3.0</td>\n",
       "      <td>85.0</td>\n",
       "      <td>...</td>\n",
       "      <td>0.350848</td>\n",
       "      <td>0.153088</td>\n",
       "      <td>0.182709</td>\n",
       "      <td>0.388219</td>\n",
       "      <td>0.153170</td>\n",
       "      <td>1.320853</td>\n",
       "      <td>0.388219</td>\n",
       "      <td>0.350845</td>\n",
       "      <td>0.153170</td>\n",
       "      <td>0.182753</td>\n",
       "    </tr>\n",
       "    <tr>\n",
       "      <th>4</th>\n",
       "      <td>12</td>\n",
       "      <td>2</td>\n",
       "      <td>485</td>\n",
       "      <td>73</td>\n",
       "      <td>118.0</td>\n",
       "      <td>1322.0</td>\n",
       "      <td>1.0</td>\n",
       "      <td>419.0</td>\n",
       "      <td>3.0</td>\n",
       "      <td>0.0</td>\n",
       "      <td>...</td>\n",
       "      <td>0.342765</td>\n",
       "      <td>0.154742</td>\n",
       "      <td>0.182086</td>\n",
       "      <td>0.384908</td>\n",
       "      <td>0.154824</td>\n",
       "      <td>1.669637</td>\n",
       "      <td>0.384908</td>\n",
       "      <td>0.342763</td>\n",
       "      <td>0.154824</td>\n",
       "      <td>0.182131</td>\n",
       "    </tr>\n",
       "  </tbody>\n",
       "</table>\n",
       "<p>5 rows × 97 columns</p>\n",
       "</div>"
      ],
      "text/plain": [
       "   date_block_num  shop_id  item_id  item_category_id  sum_item_sales_back_1  \\\n",
       "0              12        2       32                40                    0.0   \n",
       "1              12        2       33                37                   42.0   \n",
       "2              12        2       99                37                    0.0   \n",
       "3              12        2      482                73                   88.0   \n",
       "4              12        2      485                73                  118.0   \n",
       "\n",
       "   sum_shop_sales_back_1  item_cnt_month_back_1  sum_item_cat_sales_back_1  \\\n",
       "0                    0.0                    0.0                        0.0   \n",
       "1                 1322.0                    1.0                     9959.0   \n",
       "2                    0.0                    0.0                        0.0   \n",
       "3                 1322.0                    1.0                      419.0   \n",
       "4                 1322.0                    1.0                      419.0   \n",
       "\n",
       "   sum_item_cat_shop_sales_back_1  sum_item_sales_back_2  \\\n",
       "0                             0.0                    0.0   \n",
       "1                            55.0                   15.0   \n",
       "2                             0.0                    0.0   \n",
       "3                             3.0                   85.0   \n",
       "4                             3.0                    0.0   \n",
       "\n",
       "              ...               month_encoded_alpha_50  city_encoded_alpha_50  \\\n",
       "0             ...                             0.345510               0.149538   \n",
       "1             ...                             0.342765               0.154742   \n",
       "2             ...                             0.353070               0.154511   \n",
       "3             ...                             0.350848               0.153088   \n",
       "4             ...                             0.342765               0.154742   \n",
       "\n",
       "   item_type_encoded_alpha_50  item_info_encoded_alpha_100  \\\n",
       "0                    0.207502                     0.245058   \n",
       "1                    0.207805                     0.162711   \n",
       "2                    0.207298                     0.162172   \n",
       "3                    0.182709                     0.388219   \n",
       "4                    0.182086                     0.384908   \n",
       "\n",
       "   shop_id_encoded_alpha_100  item_id_encoded_alpha_100  \\\n",
       "0                   0.149622                   0.654339   \n",
       "1                   0.154824                   0.394627   \n",
       "2                   0.154593                   0.188741   \n",
       "3                   0.153170                   1.320853   \n",
       "4                   0.154824                   1.669637   \n",
       "\n",
       "   item_category_id_encoded_alpha_100  month_encoded_alpha_100  \\\n",
       "0                            0.245058                 0.345508   \n",
       "1                            0.162711                 0.342763   \n",
       "2                            0.162172                 0.353067   \n",
       "3                            0.388219                 0.350845   \n",
       "4                            0.384908                 0.342763   \n",
       "\n",
       "   city_encoded_alpha_100  item_type_encoded_alpha_100  \n",
       "0                0.149622                     0.207506  \n",
       "1                0.154824                     0.207809  \n",
       "2                0.154593                     0.207301  \n",
       "3                0.153170                     0.182753  \n",
       "4                0.154824                     0.182131  \n",
       "\n",
       "[5 rows x 97 columns]"
      ]
     },
     "execution_count": 11,
     "metadata": {},
     "output_type": "execute_result"
    }
   ],
   "source": [
    "x_train[0].head()"
   ]
  },
  {
   "cell_type": "markdown",
   "metadata": {},
   "source": [
    "# Preprocessing"
   ]
  },
  {
   "cell_type": "code",
   "execution_count": 12,
   "metadata": {},
   "outputs": [],
   "source": [
    "def preproc_model3(x_train,x_test,y_train,y_test):\n",
    "    x_train = [d.drop(['date_block_num','shop_id','item_id','month','city','item_type','item_info'],axis=1) for d in x_train]\n",
    "    x_test =  [d.drop(['date_block_num','shop_id','item_id','month','city','item_type','item_info'],axis=1) for d in x_test]\n",
    "    \n",
    "    return [x_train,x_test,y_train,y_test]"
   ]
  },
  {
   "cell_type": "code",
   "execution_count": 13,
   "metadata": {},
   "outputs": [],
   "source": [
    "x_train , x_test , y_train , y_test = preproc_model3(x_train,x_test,y_train,y_test)"
   ]
  },
  {
   "cell_type": "markdown",
   "metadata": {},
   "source": [
    "## TODO: account for factor adjustment"
   ]
  },
  {
   "cell_type": "markdown",
   "metadata": {},
   "source": [
    "# Eval Metric"
   ]
  },
  {
   "cell_type": "code",
   "execution_count": 14,
   "metadata": {},
   "outputs": [
    {
     "data": {
      "text/plain": [
       "array([1, 1, 1])"
      ]
     },
     "execution_count": 14,
     "metadata": {},
     "output_type": "execute_result"
    }
   ],
   "source": [
    "np.array([1,2,3]).clip(0,1)"
   ]
  },
  {
   "cell_type": "code",
   "execution_count": 15,
   "metadata": {},
   "outputs": [],
   "source": [
    "def model3_eval(preds,true_y):\n",
    "    preds_clipped = preds.clip(0,20)\n",
    "    true_y_clipped = true_y.clip(0,20)\n",
    "    sq_res = (preds_clipped - true_y_clipped)**2\n",
    "    return  np.sqrt(np.mean(sq_res))"
   ]
  },
  {
   "cell_type": "markdown",
   "metadata": {},
   "source": [
    "# Objective metric"
   ]
  },
  {
   "cell_type": "code",
   "execution_count": 16,
   "metadata": {},
   "outputs": [
    {
     "ename": "SyntaxError",
     "evalue": "unexpected EOF while parsing (<ipython-input-16-487381d83116>, line 2)",
     "output_type": "error",
     "traceback": [
      "\u001b[1;36m  File \u001b[1;32m\"<ipython-input-16-487381d83116>\"\u001b[1;36m, line \u001b[1;32m2\u001b[0m\n\u001b[1;33m    \u001b[0m\n\u001b[1;37m    ^\u001b[0m\n\u001b[1;31mSyntaxError\u001b[0m\u001b[1;31m:\u001b[0m unexpected EOF while parsing\n"
     ]
    }
   ],
   "source": [
    "def model3_objective(preds,true_y):\n",
    "    "
   ]
  },
  {
   "cell_type": "code",
   "execution_count": null,
   "metadata": {},
   "outputs": [],
   "source": []
  },
  {
   "cell_type": "markdown",
   "metadata": {},
   "source": [
    "# Fitting"
   ]
  },
  {
   "cell_type": "code",
   "execution_count": 17,
   "metadata": {},
   "outputs": [],
   "source": [
    "model = xgb.XGBRegressor(\n",
    "    seed=0,\n",
    "    max_depth=3,\n",
    "    learning_rate=10,\n",
    "    n_estimators=10,\n",
    "    objective='reg:linear',\n",
    ")"
   ]
  },
  {
   "cell_type": "code",
   "execution_count": 18,
   "metadata": {},
   "outputs": [
    {
     "ename": "MemoryError",
     "evalue": "",
     "output_type": "error",
     "traceback": [
      "\u001b[1;31m---------------------------------------------------------------------------\u001b[0m",
      "\u001b[1;31mMemoryError\u001b[0m                               Traceback (most recent call last)",
      "\u001b[1;32m<ipython-input-18-4348bff776a7>\u001b[0m in \u001b[0;36m<module>\u001b[1;34m\u001b[0m\n\u001b[1;32m----> 1\u001b[1;33m \u001b[0mmodel\u001b[0m\u001b[1;33m.\u001b[0m\u001b[0mfit\u001b[0m\u001b[1;33m(\u001b[0m\u001b[0mX\u001b[0m\u001b[1;33m=\u001b[0m\u001b[0mx_train\u001b[0m\u001b[1;33m[\u001b[0m\u001b[1;36m0\u001b[0m\u001b[1;33m]\u001b[0m\u001b[1;33m,\u001b[0m\u001b[0my\u001b[0m\u001b[1;33m=\u001b[0m\u001b[0my_train\u001b[0m\u001b[1;33m[\u001b[0m\u001b[1;36m0\u001b[0m\u001b[1;33m]\u001b[0m\u001b[1;33m)\u001b[0m\u001b[1;33m\u001b[0m\u001b[1;33m\u001b[0m\u001b[0m\n\u001b[0m",
      "\u001b[1;32mC:\\ProgramData\\Anaconda3\\lib\\site-packages\\xgboost\\sklearn.py\u001b[0m in \u001b[0;36mfit\u001b[1;34m(self, X, y, sample_weight, eval_set, eval_metric, early_stopping_rounds, verbose, xgb_model, sample_weight_eval_set)\u001b[0m\n\u001b[0;32m    291\u001b[0m                                    missing=self.missing, nthread=self.n_jobs)\n\u001b[0;32m    292\u001b[0m         \u001b[1;32melse\u001b[0m\u001b[1;33m:\u001b[0m\u001b[1;33m\u001b[0m\u001b[1;33m\u001b[0m\u001b[0m\n\u001b[1;32m--> 293\u001b[1;33m             \u001b[0mtrainDmatrix\u001b[0m \u001b[1;33m=\u001b[0m \u001b[0mDMatrix\u001b[0m\u001b[1;33m(\u001b[0m\u001b[0mX\u001b[0m\u001b[1;33m,\u001b[0m \u001b[0mlabel\u001b[0m\u001b[1;33m=\u001b[0m\u001b[0my\u001b[0m\u001b[1;33m,\u001b[0m \u001b[0mmissing\u001b[0m\u001b[1;33m=\u001b[0m\u001b[0mself\u001b[0m\u001b[1;33m.\u001b[0m\u001b[0mmissing\u001b[0m\u001b[1;33m,\u001b[0m \u001b[0mnthread\u001b[0m\u001b[1;33m=\u001b[0m\u001b[0mself\u001b[0m\u001b[1;33m.\u001b[0m\u001b[0mn_jobs\u001b[0m\u001b[1;33m)\u001b[0m\u001b[1;33m\u001b[0m\u001b[1;33m\u001b[0m\u001b[0m\n\u001b[0m\u001b[0;32m    294\u001b[0m \u001b[1;33m\u001b[0m\u001b[0m\n\u001b[0;32m    295\u001b[0m         \u001b[0mevals_result\u001b[0m \u001b[1;33m=\u001b[0m \u001b[1;33m{\u001b[0m\u001b[1;33m}\u001b[0m\u001b[1;33m\u001b[0m\u001b[1;33m\u001b[0m\u001b[0m\n",
      "\u001b[1;32mC:\\ProgramData\\Anaconda3\\lib\\site-packages\\xgboost\\core.py\u001b[0m in \u001b[0;36m__init__\u001b[1;34m(self, data, label, missing, weight, silent, feature_names, feature_types, nthread)\u001b[0m\n\u001b[0;32m    361\u001b[0m             \u001b[0mself\u001b[0m\u001b[1;33m.\u001b[0m\u001b[0m_init_from_csc\u001b[0m\u001b[1;33m(\u001b[0m\u001b[0mdata\u001b[0m\u001b[1;33m)\u001b[0m\u001b[1;33m\u001b[0m\u001b[1;33m\u001b[0m\u001b[0m\n\u001b[0;32m    362\u001b[0m         \u001b[1;32melif\u001b[0m \u001b[0misinstance\u001b[0m\u001b[1;33m(\u001b[0m\u001b[0mdata\u001b[0m\u001b[1;33m,\u001b[0m \u001b[0mnp\u001b[0m\u001b[1;33m.\u001b[0m\u001b[0mndarray\u001b[0m\u001b[1;33m)\u001b[0m\u001b[1;33m:\u001b[0m\u001b[1;33m\u001b[0m\u001b[1;33m\u001b[0m\u001b[0m\n\u001b[1;32m--> 363\u001b[1;33m             \u001b[0mself\u001b[0m\u001b[1;33m.\u001b[0m\u001b[0m_init_from_npy2d\u001b[0m\u001b[1;33m(\u001b[0m\u001b[0mdata\u001b[0m\u001b[1;33m,\u001b[0m \u001b[0mmissing\u001b[0m\u001b[1;33m,\u001b[0m \u001b[0mnthread\u001b[0m\u001b[1;33m)\u001b[0m\u001b[1;33m\u001b[0m\u001b[1;33m\u001b[0m\u001b[0m\n\u001b[0m\u001b[0;32m    364\u001b[0m         \u001b[1;32melif\u001b[0m \u001b[0misinstance\u001b[0m\u001b[1;33m(\u001b[0m\u001b[0mdata\u001b[0m\u001b[1;33m,\u001b[0m \u001b[0mDataTable\u001b[0m\u001b[1;33m)\u001b[0m\u001b[1;33m:\u001b[0m\u001b[1;33m\u001b[0m\u001b[1;33m\u001b[0m\u001b[0m\n\u001b[0;32m    365\u001b[0m             \u001b[0mself\u001b[0m\u001b[1;33m.\u001b[0m\u001b[0m_init_from_dt\u001b[0m\u001b[1;33m(\u001b[0m\u001b[0mdata\u001b[0m\u001b[1;33m,\u001b[0m \u001b[0mnthread\u001b[0m\u001b[1;33m)\u001b[0m\u001b[1;33m\u001b[0m\u001b[1;33m\u001b[0m\u001b[0m\n",
      "\u001b[1;32mC:\\ProgramData\\Anaconda3\\lib\\site-packages\\xgboost\\core.py\u001b[0m in \u001b[0;36m_init_from_npy2d\u001b[1;34m(self, mat, missing, nthread)\u001b[0m\n\u001b[0;32m    433\u001b[0m         \u001b[1;31m# we try to avoid data copies if possible (reshape returns a view when possible\u001b[0m\u001b[1;33m\u001b[0m\u001b[1;33m\u001b[0m\u001b[1;33m\u001b[0m\u001b[0m\n\u001b[0;32m    434\u001b[0m         \u001b[1;31m# and we explicitly tell np.array to try and avoid copying)\u001b[0m\u001b[1;33m\u001b[0m\u001b[1;33m\u001b[0m\u001b[1;33m\u001b[0m\u001b[0m\n\u001b[1;32m--> 435\u001b[1;33m         \u001b[0mdata\u001b[0m \u001b[1;33m=\u001b[0m \u001b[0mnp\u001b[0m\u001b[1;33m.\u001b[0m\u001b[0marray\u001b[0m\u001b[1;33m(\u001b[0m\u001b[0mmat\u001b[0m\u001b[1;33m.\u001b[0m\u001b[0mreshape\u001b[0m\u001b[1;33m(\u001b[0m\u001b[0mmat\u001b[0m\u001b[1;33m.\u001b[0m\u001b[0msize\u001b[0m\u001b[1;33m)\u001b[0m\u001b[1;33m,\u001b[0m \u001b[0mcopy\u001b[0m\u001b[1;33m=\u001b[0m\u001b[1;32mFalse\u001b[0m\u001b[1;33m,\u001b[0m \u001b[0mdtype\u001b[0m\u001b[1;33m=\u001b[0m\u001b[0mnp\u001b[0m\u001b[1;33m.\u001b[0m\u001b[0mfloat32\u001b[0m\u001b[1;33m)\u001b[0m\u001b[1;33m\u001b[0m\u001b[1;33m\u001b[0m\u001b[0m\n\u001b[0m\u001b[0;32m    436\u001b[0m         \u001b[0mself\u001b[0m\u001b[1;33m.\u001b[0m\u001b[0mhandle\u001b[0m \u001b[1;33m=\u001b[0m \u001b[0mctypes\u001b[0m\u001b[1;33m.\u001b[0m\u001b[0mc_void_p\u001b[0m\u001b[1;33m(\u001b[0m\u001b[1;33m)\u001b[0m\u001b[1;33m\u001b[0m\u001b[1;33m\u001b[0m\u001b[0m\n\u001b[0;32m    437\u001b[0m         \u001b[0mmissing\u001b[0m \u001b[1;33m=\u001b[0m \u001b[0mmissing\u001b[0m \u001b[1;32mif\u001b[0m \u001b[0mmissing\u001b[0m \u001b[1;32mis\u001b[0m \u001b[1;32mnot\u001b[0m \u001b[1;32mNone\u001b[0m \u001b[1;32melse\u001b[0m \u001b[0mnp\u001b[0m\u001b[1;33m.\u001b[0m\u001b[0mnan\u001b[0m\u001b[1;33m\u001b[0m\u001b[1;33m\u001b[0m\u001b[0m\n",
      "\u001b[1;31mMemoryError\u001b[0m: "
     ]
    }
   ],
   "source": [
    "model.fit(X=x_train[0],y=y_train[0])"
   ]
  },
  {
   "cell_type": "code",
   "execution_count": null,
   "metadata": {},
   "outputs": [],
   "source": []
  }
 ],
 "metadata": {
  "kernelspec": {
   "display_name": "Python 3",
   "language": "python",
   "name": "python3"
  },
  "language_info": {
   "codemirror_mode": {
    "name": "ipython",
    "version": 3
   },
   "file_extension": ".py",
   "mimetype": "text/x-python",
   "name": "python",
   "nbconvert_exporter": "python",
   "pygments_lexer": "ipython3",
   "version": "3.7.1"
  }
 },
 "nbformat": 4,
 "nbformat_minor": 2
}
